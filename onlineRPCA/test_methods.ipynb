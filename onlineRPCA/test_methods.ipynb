{
 "cells": [
  {
   "cell_type": "code",
   "execution_count": 58,
   "metadata": {},
   "outputs": [
    {
     "data": {
      "image/png": "[encoded data removed]",
      "text/plain": [
       "<Figure size 432x288 with 1 Axes>"
      ]
     },
     "metadata": {
      "needs_background": "light"
     },
     "output_type": "display_data"
    },
    {
     "name": "stdout",
     "output_type": "stream",
     "text": [
      "(3000, 1)\n"
     ]
    }
   ],
   "source": [
    "from rpca.omwrpca import omwrpca\n",
    "import numpy as np \n",
    "from rpca.stoc_rpca import stoc_rpca\n",
    "from rpca.omwrpca_cp import omwrpca_cp\n",
    "from simulation.criteria import evaluate\n",
    "import math\n",
    "import matplotlib.pyplot as plt\n",
    "\n",
    "\n",
    "\n",
    "results = {}\n",
    "\n",
    "#simulate the data\n",
    "# U0 = np.random.randn(m,r)\n",
    "# Utilde = []\n",
    "# K = int(math.ceil(float(n)/n_p))    \n",
    "# for k in range(K):\n",
    "#     Utemp = np.random.randn(m,r)\n",
    "#     Utemp[:,r0:] = 0\n",
    "#     Utilde.append(Utemp)\n",
    "# #    U0 = scipy.linalg.orth(U0)\n",
    "# V0 = np.random.randn(n + burnin,r)\n",
    "# L0 = U0.dot(V0[:burnin,:].transpose())\n",
    "# U = U0\n",
    "# for k in range(n):\n",
    "#     i = k // n_p\n",
    "#     U += 1.0/n_p*Utilde[i]\n",
    "#     L0 = np.hstack((L0, U.dot(V0[burnin+k, :]).reshape(m,1)))\n",
    "# S0 = (np.random.uniform(0, 1, size=(m,n + burnin)) < rho).astype(int) * np.random.uniform(-1000, 1000, size=(m,n + burnin))\n",
    "# M0 = L0+S0\n",
    "# # save random generator state            \n",
    "# random_state = np.random.get_state()\n",
    "\n",
    "\n",
    "#stoc_RPCA\n",
    "# start = timer()\n",
    "# Lhat, Shat, rank, Uhat = stoc_rpca(M0, burnin, lam=100, mu=0.01)\n",
    "# Lhat, Shat, rank, Uhat = stoc_rpca(M0, burnin)\n",
    "# results['stoc_rpca'] = evaluate(Lhat, Shat, L0, S0, r, U0, burnin)\n",
    "# end = timer()       \n",
    "\n",
    "mydata = np.concatenate((np.random.randn(1000), np.random.randn(1000)+5))\n",
    "mydata = np.concatenate((mydata, np.random.randn(1000)-3))\n",
    "\n",
    "plt.plot(mydata)\n",
    "plt.show()\n",
    "\n",
    "M0 = np.zeros()\n",
    "M0 = np.resize(mydata, (1,len(M0)))\n",
    "print(M0.shape)"
   ]
  },
  {
   "cell_type": "code",
   "execution_count": 63,
   "metadata": {},
   "outputs": [
    {
     "name": "stdout",
     "output_type": "stream",
     "text": [
      "Parameter burin should be less than or equal to the number of columns of input matrix. Program stops.\n"
     ]
    }
   ],
   "source": [
    "burnin= 200\n",
    "m=1\n",
    "r = 10\n",
    "r0 = 5\n",
    "rho = 0.1\n",
    "\n",
    "# pms['nrep'] = 50\n",
    "# pms['seed'] = 12345\n",
    "\n",
    "# omwrpca params\n",
    "win_size = 100\n",
    "track_cp_burnin = 200\n",
    "n_check_cp = 20\n",
    "alpha = 0.01\n",
    "proportion = 0.5\n",
    "n_positive = 3\n",
    "min_test_size = 100\n",
    "tolerance_num = 0\n",
    "factor = 1\n",
    "n_p = 250\n",
    "\n",
    "\n",
    "Lhat, Shat, rank, cp, num_sparses = omwrpca_cp(M0, burnin, win_size, track_cp_burnin, n_check_cp, alpha, proportion, n_positive, min_test_size, \n",
    "                                                tolerance_num=tolerance_num, lambda1=1.0/np.sqrt(m), lambda2=1.0/np.sqrt(m)*(10**2), factor=factor)\n",
    "\n"
   ]
  },
  {
   "cell_type": "code",
   "execution_count": 65,
   "metadata": {},
   "outputs": [
    {
     "data": {
      "text/plain": [
       "array([], shape=(3000, 0), dtype=float64)"
      ]
     },
     "execution_count": 65,
     "metadata": {},
     "output_type": "execute_result"
    }
   ],
   "source": [
    "Shat"
   ]
  },
  {
   "cell_type": "code",
   "execution_count": null,
   "metadata": {},
   "outputs": [],
   "source": []
  }
 ],
 "metadata": {
  "kernelspec": {
   "display_name": "Python 3.9.12 ('base')",
   "language": "python",
   "name": "python3"
  },
  "language_info": {
   "codemirror_mode": {
    "name": "ipython",
    "version": 3
   },
   "file_extension": ".py",
   "mimetype": "text/x-python",
   "name": "python",
   "nbconvert_exporter": "python",
   "pygments_lexer": "ipython3",
   "version": "3.9.12"
  },
  "orig_nbformat": 4,
  "vscode": {
   "interpreter": {
    "hash": "6e7fe64e36856dc2a60c8c810b6d036b36aae2c3e1465be319c21e7ea4f472a3"
   }
  }
 },
 "nbformat": 4,
 "nbformat_minor": 2
}
