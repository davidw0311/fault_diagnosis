{
 "cells": [
  {
   "cell_type": "code",
   "execution_count": 108,
   "metadata": {},
   "outputs": [
    {
     "ename": "FileNotFoundError",
     "evalue": "[Errno 2] No such file or directory: 'data/torque.xlsx'",
     "output_type": "error",
     "traceback": [
      "\u001b[0;31m---------------------------------------------------------------------------\u001b[0m",
      "\u001b[0;31mFileNotFoundError\u001b[0m                         Traceback (most recent call last)",
      "\u001b[1;32m/Users/davidw/fault_diagnosis/onlineRPCA/test_methods.ipynb Cell 1\u001b[0m in \u001b[0;36m<cell line: 54>\u001b[0;34m()\u001b[0m\n\u001b[1;32m     <a href='vscode-notebook-cell:/Users/davidw/fault_diagnosis/onlineRPCA/test_methods.ipynb#W6sZmlsZQ%3D%3D?line=12'>13</a>\u001b[0m \u001b[39m#simulate the data\u001b[39;00m\n\u001b[1;32m     <a href='vscode-notebook-cell:/Users/davidw/fault_diagnosis/onlineRPCA/test_methods.ipynb#W6sZmlsZQ%3D%3D?line=13'>14</a>\u001b[0m \u001b[39m# U0 = np.random.randn(m,r)\u001b[39;00m\n\u001b[1;32m     <a href='vscode-notebook-cell:/Users/davidw/fault_diagnosis/onlineRPCA/test_methods.ipynb#W6sZmlsZQ%3D%3D?line=14'>15</a>\u001b[0m \u001b[39m# Utilde = []\u001b[39;00m\n\u001b[0;32m   (...)\u001b[0m\n\u001b[1;32m     <a href='vscode-notebook-cell:/Users/davidw/fault_diagnosis/onlineRPCA/test_methods.ipynb#W6sZmlsZQ%3D%3D?line=48'>49</a>\u001b[0m \u001b[39m# M0 = np.resize(mydata, (1,len(mydata)))\u001b[39;00m\n\u001b[1;32m     <a href='vscode-notebook-cell:/Users/davidw/fault_diagnosis/onlineRPCA/test_methods.ipynb#W6sZmlsZQ%3D%3D?line=49'>50</a>\u001b[0m \u001b[39m# print(M0.shape)\u001b[39;00m\n\u001b[1;32m     <a href='vscode-notebook-cell:/Users/davidw/fault_diagnosis/onlineRPCA/test_methods.ipynb#W6sZmlsZQ%3D%3D?line=52'>53</a>\u001b[0m fileName \u001b[39m=\u001b[39m \u001b[39m\"\u001b[39m\u001b[39mdata/torque.xlsx\u001b[39m\u001b[39m\"\u001b[39m\n\u001b[0;32m---> <a href='vscode-notebook-cell:/Users/davidw/fault_diagnosis/onlineRPCA/test_methods.ipynb#W6sZmlsZQ%3D%3D?line=53'>54</a>\u001b[0m torqueDataFrame \u001b[39m=\u001b[39m pd\u001b[39m.\u001b[39;49mread_excel(fileName)\n\u001b[1;32m     <a href='vscode-notebook-cell:/Users/davidw/fault_diagnosis/onlineRPCA/test_methods.ipynb#W6sZmlsZQ%3D%3D?line=54'>55</a>\u001b[0m \u001b[39m# print(torqueDataFrame)      # 3440*2\u001b[39;00m\n\u001b[1;32m     <a href='vscode-notebook-cell:/Users/davidw/fault_diagnosis/onlineRPCA/test_methods.ipynb#W6sZmlsZQ%3D%3D?line=56'>57</a>\u001b[0m torqueData \u001b[39m=\u001b[39m np\u001b[39m.\u001b[39masarray(torqueDataFrame)\n",
      "File \u001b[0;32m~/opt/anaconda3/lib/python3.9/site-packages/pandas/util/_decorators.py:311\u001b[0m, in \u001b[0;36mdeprecate_nonkeyword_arguments.<locals>.decorate.<locals>.wrapper\u001b[0;34m(*args, **kwargs)\u001b[0m\n\u001b[1;32m    305\u001b[0m \u001b[39mif\u001b[39;00m \u001b[39mlen\u001b[39m(args) \u001b[39m>\u001b[39m num_allow_args:\n\u001b[1;32m    306\u001b[0m     warnings\u001b[39m.\u001b[39mwarn(\n\u001b[1;32m    307\u001b[0m         msg\u001b[39m.\u001b[39mformat(arguments\u001b[39m=\u001b[39marguments),\n\u001b[1;32m    308\u001b[0m         \u001b[39mFutureWarning\u001b[39;00m,\n\u001b[1;32m    309\u001b[0m         stacklevel\u001b[39m=\u001b[39mstacklevel,\n\u001b[1;32m    310\u001b[0m     )\n\u001b[0;32m--> 311\u001b[0m \u001b[39mreturn\u001b[39;00m func(\u001b[39m*\u001b[39;49margs, \u001b[39m*\u001b[39;49m\u001b[39m*\u001b[39;49mkwargs)\n",
      "File \u001b[0;32m~/opt/anaconda3/lib/python3.9/site-packages/pandas/io/excel/_base.py:457\u001b[0m, in \u001b[0;36mread_excel\u001b[0;34m(io, sheet_name, header, names, index_col, usecols, squeeze, dtype, engine, converters, true_values, false_values, skiprows, nrows, na_values, keep_default_na, na_filter, verbose, parse_dates, date_parser, thousands, decimal, comment, skipfooter, convert_float, mangle_dupe_cols, storage_options)\u001b[0m\n\u001b[1;32m    455\u001b[0m \u001b[39mif\u001b[39;00m \u001b[39mnot\u001b[39;00m \u001b[39misinstance\u001b[39m(io, ExcelFile):\n\u001b[1;32m    456\u001b[0m     should_close \u001b[39m=\u001b[39m \u001b[39mTrue\u001b[39;00m\n\u001b[0;32m--> 457\u001b[0m     io \u001b[39m=\u001b[39m ExcelFile(io, storage_options\u001b[39m=\u001b[39;49mstorage_options, engine\u001b[39m=\u001b[39;49mengine)\n\u001b[1;32m    458\u001b[0m \u001b[39melif\u001b[39;00m engine \u001b[39mand\u001b[39;00m engine \u001b[39m!=\u001b[39m io\u001b[39m.\u001b[39mengine:\n\u001b[1;32m    459\u001b[0m     \u001b[39mraise\u001b[39;00m \u001b[39mValueError\u001b[39;00m(\n\u001b[1;32m    460\u001b[0m         \u001b[39m\"\u001b[39m\u001b[39mEngine should not be specified when passing \u001b[39m\u001b[39m\"\u001b[39m\n\u001b[1;32m    461\u001b[0m         \u001b[39m\"\u001b[39m\u001b[39man ExcelFile - ExcelFile already has the engine set\u001b[39m\u001b[39m\"\u001b[39m\n\u001b[1;32m    462\u001b[0m     )\n",
      "File \u001b[0;32m~/opt/anaconda3/lib/python3.9/site-packages/pandas/io/excel/_base.py:1376\u001b[0m, in \u001b[0;36mExcelFile.__init__\u001b[0;34m(self, path_or_buffer, engine, storage_options)\u001b[0m\n\u001b[1;32m   1374\u001b[0m     ext \u001b[39m=\u001b[39m \u001b[39m\"\u001b[39m\u001b[39mxls\u001b[39m\u001b[39m\"\u001b[39m\n\u001b[1;32m   1375\u001b[0m \u001b[39melse\u001b[39;00m:\n\u001b[0;32m-> 1376\u001b[0m     ext \u001b[39m=\u001b[39m inspect_excel_format(\n\u001b[1;32m   1377\u001b[0m         content_or_path\u001b[39m=\u001b[39;49mpath_or_buffer, storage_options\u001b[39m=\u001b[39;49mstorage_options\n\u001b[1;32m   1378\u001b[0m     )\n\u001b[1;32m   1379\u001b[0m     \u001b[39mif\u001b[39;00m ext \u001b[39mis\u001b[39;00m \u001b[39mNone\u001b[39;00m:\n\u001b[1;32m   1380\u001b[0m         \u001b[39mraise\u001b[39;00m \u001b[39mValueError\u001b[39;00m(\n\u001b[1;32m   1381\u001b[0m             \u001b[39m\"\u001b[39m\u001b[39mExcel file format cannot be determined, you must specify \u001b[39m\u001b[39m\"\u001b[39m\n\u001b[1;32m   1382\u001b[0m             \u001b[39m\"\u001b[39m\u001b[39man engine manually.\u001b[39m\u001b[39m\"\u001b[39m\n\u001b[1;32m   1383\u001b[0m         )\n",
      "File \u001b[0;32m~/opt/anaconda3/lib/python3.9/site-packages/pandas/io/excel/_base.py:1250\u001b[0m, in \u001b[0;36minspect_excel_format\u001b[0;34m(content_or_path, storage_options)\u001b[0m\n\u001b[1;32m   1247\u001b[0m \u001b[39mif\u001b[39;00m \u001b[39misinstance\u001b[39m(content_or_path, \u001b[39mbytes\u001b[39m):\n\u001b[1;32m   1248\u001b[0m     content_or_path \u001b[39m=\u001b[39m BytesIO(content_or_path)\n\u001b[0;32m-> 1250\u001b[0m \u001b[39mwith\u001b[39;00m get_handle(\n\u001b[1;32m   1251\u001b[0m     content_or_path, \u001b[39m\"\u001b[39;49m\u001b[39mrb\u001b[39;49m\u001b[39m\"\u001b[39;49m, storage_options\u001b[39m=\u001b[39;49mstorage_options, is_text\u001b[39m=\u001b[39;49m\u001b[39mFalse\u001b[39;49;00m\n\u001b[1;32m   1252\u001b[0m ) \u001b[39mas\u001b[39;00m handle:\n\u001b[1;32m   1253\u001b[0m     stream \u001b[39m=\u001b[39m handle\u001b[39m.\u001b[39mhandle\n\u001b[1;32m   1254\u001b[0m     stream\u001b[39m.\u001b[39mseek(\u001b[39m0\u001b[39m)\n",
      "File \u001b[0;32m~/opt/anaconda3/lib/python3.9/site-packages/pandas/io/common.py:798\u001b[0m, in \u001b[0;36mget_handle\u001b[0;34m(path_or_buf, mode, encoding, compression, memory_map, is_text, errors, storage_options)\u001b[0m\n\u001b[1;32m    789\u001b[0m         handle \u001b[39m=\u001b[39m \u001b[39mopen\u001b[39m(\n\u001b[1;32m    790\u001b[0m             handle,\n\u001b[1;32m    791\u001b[0m             ioargs\u001b[39m.\u001b[39mmode,\n\u001b[0;32m   (...)\u001b[0m\n\u001b[1;32m    794\u001b[0m             newline\u001b[39m=\u001b[39m\u001b[39m\"\u001b[39m\u001b[39m\"\u001b[39m,\n\u001b[1;32m    795\u001b[0m         )\n\u001b[1;32m    796\u001b[0m     \u001b[39melse\u001b[39;00m:\n\u001b[1;32m    797\u001b[0m         \u001b[39m# Binary mode\u001b[39;00m\n\u001b[0;32m--> 798\u001b[0m         handle \u001b[39m=\u001b[39m \u001b[39mopen\u001b[39;49m(handle, ioargs\u001b[39m.\u001b[39;49mmode)\n\u001b[1;32m    799\u001b[0m     handles\u001b[39m.\u001b[39mappend(handle)\n\u001b[1;32m    801\u001b[0m \u001b[39m# Convert BytesIO or file objects passed with an encoding\u001b[39;00m\n",
      "\u001b[0;31mFileNotFoundError\u001b[0m: [Errno 2] No such file or directory: 'data/torque.xlsx'"
     ]
    }
   ],
   "source": [
    "from rpca.omwrpca import omwrpca\n",
    "import numpy as np \n",
    "from rpca.stoc_rpca import stoc_rpca\n",
    "from rpca.omwrpca_cp import omwrpca_cp\n",
    "from simulation.criteria import evaluate\n",
    "import math\n",
    "import matplotlib.pyplot as plt\n",
    "import pandas as pd\n",
    "\n",
    "\n",
    "results = {}\n",
    "\n",
    "#simulate the data\n",
    "# U0 = np.random.randn(m,r)\n",
    "# Utilde = []\n",
    "# K = int(math.ceil(float(n)/n_p))    \n",
    "# for k in range(K):\n",
    "#     Utemp = np.random.randn(m,r)\n",
    "#     Utemp[:,r0:] = 0\n",
    "#     Utilde.append(Utemp)\n",
    "# #    U0 = scipy.linalg.orth(U0)\n",
    "# V0 = np.random.randn(n + burnin,r)\n",
    "# L0 = U0.dot(V0[:burnin,:].transpose())\n",
    "# U = U0\n",
    "# for k in range(n):\n",
    "#     i = k // n_p\n",
    "#     U += 1.0/n_p*Utilde[i]\n",
    "#     L0 = np.hstack((L0, U.dot(V0[burnin+k, :]).reshape(m,1)))\n",
    "# S0 = (np.random.uniform(0, 1, size=(m,n + burnin)) < rho).astype(int) * np.random.uniform(-1000, 1000, size=(m,n + burnin))\n",
    "# M0 = L0+S0\n",
    "# # save random generator state            \n",
    "# random_state = np.random.get_state()\n",
    "\n",
    "\n",
    "#stoc_RPCA\n",
    "# start = timer()\n",
    "# Lhat, Shat, rank, Uhat = stoc_rpca(M0, burnin, lam=100, mu=0.01)\n",
    "# Lhat, Shat, rank, Uhat = stoc_rpca(M0, burnin)\n",
    "# results['stoc_rpca'] = evaluate(Lhat, Shat, L0, S0, r, U0, burnin)\n",
    "# end = timer()       \n",
    "\n",
    "# mydata = np.concatenate((np.random.randn(1000), 0.1*np.random.randn(1000)+1))\n",
    "# mydata = np.concatenate((mydata, 0.6*np.random.randn(1000)-2))\n",
    "\n",
    "# plt.plot(mydata)\n",
    "# plt.show()\n",
    "\n",
    "\n",
    "# M0 = np.resize(mydata, (1,len(mydata)))\n",
    "# print(M0.shape)\n",
    "\n",
    "\n",
    "fileName = \"data/torque.xlsx\"\n",
    "torqueDataFrame = pd.read_excel(fileName)\n",
    "# print(torqueDataFrame)      # 3440*2\n",
    "\n",
    "torqueData = np.asarray(torqueDataFrame)\n",
    "torqueData = torqueData[:,1]\n",
    "\n",
    "# mydata = np.concatenate((np.random.randn(1000), np.random.randn(1000)+5))\n",
    "# mydata = np.concatenate((mydata, np.random.randn(1000)-3))\n",
    "\n",
    "mydata = torqueData[1500:3200]\n",
    "plt.plot(mydata)\n",
    "plt.show()\n",
    "\n",
    "print(mydata.shape)\n",
    "# mydata = np.resize(mydata, (1,len(mydata)))\n",
    "# print(mydata.shape)\n",
    "\n",
    "window_size = 52\n",
    "X = np.zeros((window_size,len(mydata)-window_size+1))\n",
    "\n",
    "for i in range(len(mydata)-window_size+1):\n",
    "    X[:,i] = mydata[i:i+window_size]"
   ]
  },
  {
   "cell_type": "code",
   "execution_count": 102,
   "metadata": {},
   "outputs": [],
   "source": [
    "burnin= 200\n",
    "m=1\n",
    "r = 10\n",
    "r0 = 5\n",
    "rho = 0.1\n",
    "\n",
    "# pms['nrep'] = 50\n",
    "# pms['seed'] = 12345\n",
    "\n",
    "# omwrpca params\n",
    "win_size = 100\n",
    "track_cp_burnin = 200\n",
    "n_check_cp = 20\n",
    "alpha = 0.01\n",
    "proportion = 0.5\n",
    "n_positive = 3\n",
    "min_test_size = 100\n",
    "tolerance_num = 0\n",
    "factor = 1\n",
    "n_p = 250\n",
    "\n",
    "\n",
    "Lhat, Shat, rank, cp, num_sparses = omwrpca_cp(M0, burnin, win_size, track_cp_burnin, n_check_cp, alpha, proportion, n_positive, min_test_size, \n",
    "                                                tolerance_num=tolerance_num, lambda1=1.0/np.sqrt(m), lambda2=1.0/np.sqrt(m)*(10**2), factor=factor)\n",
    "\n"
   ]
  },
  {
   "cell_type": "code",
   "execution_count": 105,
   "metadata": {},
   "outputs": [
    {
     "data": {
      "image/png": "[encoded data removed]",
      "text/plain": [
       "<Figure size 432x288 with 1 Axes>"
      ]
     },
     "metadata": {
      "needs_background": "light"
     },
     "output_type": "display_data"
    }
   ],
   "source": [
    "plt.plot(Shat[0,:])\n",
    "plt.show()"
   ]
  },
  {
   "cell_type": "code",
   "execution_count": 104,
   "metadata": {},
   "outputs": [
    {
     "data": {
      "text/plain": [
       "[]"
      ]
     },
     "execution_count": 104,
     "metadata": {},
     "output_type": "execute_result"
    }
   ],
   "source": [
    "cp"
   ]
  },
  {
   "cell_type": "code",
   "execution_count": null,
   "metadata": {},
   "outputs": [],
   "source": []
  }
 ],
 "metadata": {
  "kernelspec": {
   "display_name": "Python 3.9.12 ('base')",
   "language": "python",
   "name": "python3"
  },
  "language_info": {
   "codemirror_mode": {
    "name": "ipython",
    "version": 3
   },
   "file_extension": ".py",
   "mimetype": "text/x-python",
   "name": "python",
   "nbconvert_exporter": "python",
   "pygments_lexer": "ipython3",
   "version": "3.9.12"
  },
  "orig_nbformat": 4,
  "vscode": {
   "interpreter": {
    "hash": "6e7fe64e36856dc2a60c8c810b6d036b36aae2c3e1465be319c21e7ea4f472a3"
   }
  }
 },
 "nbformat": 4,
 "nbformat_minor": 2
}
