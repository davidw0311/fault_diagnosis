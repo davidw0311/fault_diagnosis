{
 "cells": [
  {
   "cell_type": "code",
   "execution_count": null,
   "metadata": {
    "collapsed": false
   },
   "outputs": [],
   "source": [
    "import numpy as np\n",
    "from PIL import Image, ImageTk\n",
    "import Tkinter\n",
    "from timeit import default_timer as timer\n",
    "import time\n",
    "from images2gif import writeGif\n",
    "import scipy.misc\n",
    "import shutil\n",
    "import subprocess\n",
    "from PIL import Image\n",
    "from IPython import display\n",
    "from IPython.display import HTML\n",
    "from glob import glob\n",
    "import matplotlib.pyplot as plt\n",
    "%matplotlib inline\n",
    "\n",
    "import os, sys\n",
    "sys.path.insert(0, os.path.dirname(os.path.abspath('..')))\n",
    "from rpca.pcp import pcp\n",
    "from rpca.mwrpca import mwrpca\n",
    "from rpca.stoc_rpca  import stoc_rpca\n",
    "from rpca.omwrpca  import omwrpca\n",
    "from rpca.omwrpca_cp  import omwrpca_cp"
   ]
  },
  {
   "cell_type": "markdown",
   "metadata": {},
   "source": [
    "### Define utility functions"
   ]
  },
  {
   "cell_type": "code",
   "execution_count": null,
   "metadata": {
    "collapsed": true
   },
   "outputs": [],
   "source": [
    "def bitmap_to_mat(bitmap_seq):\n",
    "    matrix = []\n",
    "\n",
    "    for bitmap_file in bitmap_seq:\n",
    "        im = Image.open(bitmap_file).convert('L') # convert to grayscale\n",
    "        pixels = list(im.getdata())\n",
    "        matrix.append(pixels)\n",
    "\n",
    "    return np.array(matrix)"
   ]
  },
  {
   "cell_type": "code",
   "execution_count": null,
   "metadata": {
    "collapsed": true
   },
   "outputs": [],
   "source": [
    "def bitmap_to_mat_jump_window(bitmap_seq, w, h):\n",
    "    \"\"\"\n",
    "    w: width of pic\n",
    "    h: height of pic\n",
    "    \"\"\"\n",
    "    matrix = []\n",
    "    k = 0\n",
    "    for bitmap_file in bitmap_seq:\n",
    "        k += 1\n",
    "        im = Image.open(bitmap_file).convert('L') # convert to grayscale\n",
    "        if k <= 1000 or k > 2000:\n",
    "            im = im.crop((0, 0, w/2, h))\n",
    "        else:\n",
    "            im = im.crop((w/2, 0, w, h))\n",
    "        pixels = list(im.getdata())\n",
    "        matrix.append(pixels)\n",
    "     \n",
    "    return np.array(matrix)"
   ]
  },
  {
   "cell_type": "code",
   "execution_count": null,
   "metadata": {
    "collapsed": true
   },
   "outputs": [],
   "source": [
    "def bitmap_to_mat_jump_move_window(bitmap_seq, w, h, njumps=10):\n",
    "    \"\"\"\n",
    "    w: width of pic\n",
    "    h: height of pic\n",
    "    njumps: number of frames with one move\n",
    "    \"\"\"\n",
    "    matrix = []\n",
    "    k = 0\n",
    "    index = 0\n",
    "    direct = 1\n",
    "    for bitmap_file in bitmap_seq:\n",
    "        k += 1\n",
    "        if k == njumps*(w/2) + 1:\n",
    "            # jump from the right side to left side\n",
    "            index = 0\n",
    "            direct = 1\n",
    "        else:\n",
    "            # move 1 pixel every njumps obs.\n",
    "            if k % njumps ==0:\n",
    "                index += direct\n",
    "            if index == -1:\n",
    "                index = 1\n",
    "                direct *= -1\n",
    "            elif index == w/2:\n",
    "                index = w/2 - 2\n",
    "                direct *= -1\n",
    "        im = Image.open(bitmap_file).convert('L') # convert to grayscale\n",
    "        im = im.crop((index, 0, index + w/2, h))\n",
    "        pixels = list(im.getdata())\n",
    "        matrix.append(pixels)\n",
    "     \n",
    "    return np.array(matrix)"
   ]
  },
  {
   "cell_type": "code",
   "execution_count": null,
   "metadata": {
    "collapsed": true
   },
   "outputs": [],
   "source": [
    "def animate(matrices, w, h):\n",
    "    mats = [np.load(x) for x in matrices]\n",
    "    tk_win = Tkinter.Toplevel()\n",
    "    canvas = Tkinter.Canvas(tk_win, width=7*w, height=7*h)\n",
    "    canvas.pack()\n",
    "    tk_ims = [None for _ in mats]\n",
    "    for i, row in enumerate(mats[0]):\n",
    "        ims = [Image.new('L', (w, h)) for _ in mats]\n",
    "        for j, im in enumerate(ims):\n",
    "            im.putdata(map(float, list(mats[j][i])))\n",
    "            tk_ims[j] = ImageTk.PhotoImage(im)\n",
    "            canvas.create_image((j * w) + 200, h, image = tk_ims[j])\n",
    "            canvas.update()\n",
    "#            time.sleep(0.001)\n",
    "    "
   ]
  },
  {
   "cell_type": "code",
   "execution_count": null,
   "metadata": {
    "collapsed": false
   },
   "outputs": [],
   "source": [
    "def writeGifMatric(file_name, mats, duration, w, h):\n",
    "    ims = [Image.new('L', (w, h)) for _ in range(mats.shape[0])]\n",
    "    for j, im in enumerate(ims):\n",
    "        im.putdata(map(float, mats[j]))\n",
    "    writeGif(file_name, ims, duration=duration)"
   ]
  },
  {
   "cell_type": "code",
   "execution_count": null,
   "metadata": {
    "collapsed": true
   },
   "outputs": [],
   "source": [
    "def writeMatricPng(folder, filename, mats, w, h):\n",
    "    n, m = mats.shape\n",
    "    assert (m == w*h), \"incorrect w or h\"\n",
    "    for i in range(n):\n",
    "        target = mats[i,:].reshape((w,h), order='F').transpose()\n",
    "        scipy.misc.imsave(folder + filename + str(1000+i) + '.png', target)        \n",
    "    "
   ]
  },
  {
   "cell_type": "code",
   "execution_count": null,
   "metadata": {
    "collapsed": true
   },
   "outputs": [],
   "source": [
    "def display_gif(fn):\n",
    "    return display.HTML('<img src=\"{}\">'.format(fn))"
   ]
  },
  {
   "cell_type": "code",
   "execution_count": null,
   "metadata": {
    "collapsed": false
   },
   "outputs": [],
   "source": [
    "def display_gifs(fns):\n",
    "    imagesList=''.join( [\"<img style='width: 300px; margin: 0px; float: left; border: 1px solid black;' src='%s' />\" % str(s) \n",
    "                 for s in fns])\n",
    "    return display.HTML(imagesList)"
   ]
  },
  {
   "cell_type": "markdown",
   "metadata": {},
   "source": [
    "### Resize the image (40X32)"
   ]
  },
  {
   "cell_type": "code",
   "execution_count": null,
   "metadata": {
    "collapsed": true
   },
   "outputs": [],
   "source": [
    "# hall video data\n",
    "from_folder = \"./hall/\"\n",
    "to_folder = \"./hall_resize/\"\n",
    "#create to folder if it doesn't exist\n",
    "try:\n",
    "    os.stat(to_folder)\n",
    "except:\n",
    "    os.mkdir(to_folder) \n",
    "from resizeimage import resizeimage\n",
    "bmp_seq = map(lambda s: os.path.join(from_folder, s), os.listdir(from_folder))\n",
    "for bmp in bmp_seq:\n",
    "    with open(bmp, 'r+b') as f:\n",
    "        with Image.open(f) as image:\n",
    "            cover = resizeimage.resize_cover(image, [40, 32])\n",
    "            cover.save(bmp.replace(from_folder, to_folder), image.format)"
   ]
  },
  {
   "cell_type": "markdown",
   "metadata": {},
   "source": [
    "### Read in video data and save as PNGs"
   ]
  },
  {
   "cell_type": "markdown",
   "metadata": {},
   "source": [
    "#### hall video (176X144)"
   ]
  },
  {
   "cell_type": "code",
   "execution_count": null,
   "metadata": {
    "collapsed": false
   },
   "outputs": [],
   "source": [
    "bmp_seq = map(lambda s: os.path.join(\"./hall/\", s), os.listdir(\"./hall/\"))\n",
    "hall_mat = bitmap_to_mat(bmp_seq)\n",
    "np.save('hall_mat.npy', hall_mat)\n",
    "print hall_mat.shape"
   ]
  },
  {
   "cell_type": "code",
   "execution_count": null,
   "metadata": {
    "collapsed": true
   },
   "outputs": [],
   "source": [
    "try:\n",
    "    os.stat('./hall_M/')\n",
    "except:\n",
    "    os.mkdir('./hall_M')\n",
    "filelist = [ f for f in os.listdir('./hall_M/')]\n",
    "for f in filelist:\n",
    "    os.remove('./hall_M/' + f)"
   ]
  },
  {
   "cell_type": "code",
   "execution_count": null,
   "metadata": {
    "collapsed": false
   },
   "outputs": [],
   "source": [
    "writeMatricPng(\"./hall_M/\", \"hall\", hall_mat, 176, 144)"
   ]
  },
  {
   "cell_type": "code",
   "execution_count": null,
   "metadata": {
    "collapsed": false
   },
   "outputs": [],
   "source": [
    "# display_gif(\"./hall_M/hall_M.gif\")"
   ]
  },
  {
   "cell_type": "markdown",
   "metadata": {},
   "source": [
    "#### hall video with jumping window (88X144)"
   ]
  },
  {
   "cell_type": "code",
   "execution_count": null,
   "metadata": {
    "collapsed": false
   },
   "outputs": [],
   "source": [
    "bmp_seq = map(lambda s: os.path.join(\"./hall/\", s), os.listdir(\"./hall/\"))\n",
    "hall_mat_jump = bitmap_to_mat_jump_window(bmp_seq, 176, 144)\n",
    "np.save('hall_mat_jump.npy', hall_mat_jump)\n",
    "print hall_mat_jump.shape"
   ]
  },
  {
   "cell_type": "code",
   "execution_count": null,
   "metadata": {
    "collapsed": false
   },
   "outputs": [],
   "source": [
    "try:\n",
    "    os.stat('./hall_jump_M/')\n",
    "except:\n",
    "    os.mkdir('./hall_jump_M')\n",
    "filelist = [ f for f in os.listdir('./hall_jump_M/')]\n",
    "for f in filelist:\n",
    "    os.remove('./hall_jump_M/' + f)"
   ]
  },
  {
   "cell_type": "code",
   "execution_count": null,
   "metadata": {
    "collapsed": false
   },
   "outputs": [],
   "source": [
    "writeMatricPng(\"./hall_jump_M/\", \"hall\", hall_mat_jump, 88, 144)"
   ]
  },
  {
   "cell_type": "code",
   "execution_count": null,
   "metadata": {
    "collapsed": false
   },
   "outputs": [],
   "source": [
    "# display_gif(\"./hall_jump_M/hall_M.gif\")"
   ]
  },
  {
   "cell_type": "markdown",
   "metadata": {},
   "source": [
    "#### hall video with moving and jumping window (88X144)"
   ]
  },
  {
   "cell_type": "code",
   "execution_count": null,
   "metadata": {
    "collapsed": false
   },
   "outputs": [],
   "source": [
    "# jump time 880\n",
    "bmp_seq = map(lambda s: os.path.join(\"./hall/\", s), os.listdir(\"./hall/\"))\n",
    "hall_mat_jump_move = bitmap_to_mat_jump_move_window(bmp_seq, 176, 144, njumps=10)\n",
    "np.save('hall_mat_jump_move.npy', hall_mat_jump_move)\n",
    "print hall_mat_jump_move.shape"
   ]
  },
  {
   "cell_type": "code",
   "execution_count": null,
   "metadata": {
    "collapsed": false
   },
   "outputs": [],
   "source": [
    "try:\n",
    "    os.stat('./hall_jump_move_M/')\n",
    "except:\n",
    "    os.mkdir('./hall_jump_move_M')\n",
    "filelist = [ f for f in os.listdir('./hall_jump_move_M/')]\n",
    "for f in filelist:\n",
    "    os.remove('./hall_jump_move_M/' + f)"
   ]
  },
  {
   "cell_type": "code",
   "execution_count": null,
   "metadata": {
    "collapsed": true
   },
   "outputs": [],
   "source": [
    "writeMatricPng(\"./hall_jump_move_M/\", \"hall\", hall_mat_jump_move, 88, 144)"
   ]
  },
  {
   "cell_type": "markdown",
   "metadata": {},
   "source": [
    "### RPCA on hall video "
   ]
  },
  {
   "cell_type": "code",
   "execution_count": null,
   "metadata": {
    "collapsed": true
   },
   "outputs": [],
   "source": [
    "hall_mat = np.load(\"hall_mat.npy\")"
   ]
  },
  {
   "cell_type": "code",
   "execution_count": null,
   "metadata": {
    "collapsed": true
   },
   "outputs": [],
   "source": [
    "print hall_mat.shape"
   ]
  },
  {
   "cell_type": "markdown",
   "metadata": {},
   "source": [
    "#### stoc_rpca"
   ]
  },
  {
   "cell_type": "code",
   "execution_count": null,
   "metadata": {
    "collapsed": true
   },
   "outputs": [],
   "source": [
    "start = timer()\n",
    "Lhat, Shat, rank, Uhat = stoc_rpca(np.transpose(hall_mat), 100, lambda1=1.0/np.sqrt(200), lambda2=1.0/np.sqrt(200)*(100))\n",
    "end = timer()       \n",
    "print \"Running time of stoc_rpca: %.3f seconds.\" % (end - start)\n",
    "np.save(\"hall_mat_low_stoc_rpca.npy\", Lhat.transpose())\n",
    "np.save(\"hall_mat_sparse_stoc_rpca.npy\", Shat.transpose())"
   ]
  },
  {
   "cell_type": "code",
   "execution_count": null,
   "metadata": {
    "collapsed": true
   },
   "outputs": [],
   "source": [
    "for folder in ['./hall_STOC_RPCA_L/', './hall_STOC_RPCA_S/']:\n",
    "    try:\n",
    "        os.stat(folder)\n",
    "    except:\n",
    "        os.mkdir(folder)\n",
    "    filelist = [ f for f in os.listdir(folder)]\n",
    "    for f in filelist:\n",
    "        os.remove(folder + f)"
   ]
  },
  {
   "cell_type": "code",
   "execution_count": null,
   "metadata": {
    "collapsed": true
   },
   "outputs": [],
   "source": [
    "writeMatricPng(\"./hall_STOC_RPCA_L/\", \"hall\", Lhat.transpose(), 176, 144)"
   ]
  },
  {
   "cell_type": "code",
   "execution_count": null,
   "metadata": {
    "collapsed": true
   },
   "outputs": [],
   "source": [
    "writeMatricPng(\"./hall_STOC_RPCA_S/\", \"hall\", Shat.transpose(), 176, 144)"
   ]
  },
  {
   "cell_type": "markdown",
   "metadata": {},
   "source": [
    "#### OMWRPCA"
   ]
  },
  {
   "cell_type": "code",
   "execution_count": null,
   "metadata": {
    "collapsed": true
   },
   "outputs": [],
   "source": [
    "start = timer()\n",
    "Lhat, Shat, rank = omwrpca(np.transpose(hall_mat), burnin=100, win_size=100, lambda1=1.0/np.sqrt(200), lambda2=1.0/np.sqrt(200)*(100))\n",
    "end = timer()       \n",
    "print \"Running time of omwrpca: %.3f seconds.\" % (end - start)\n",
    "np.save(\"hall_mat_low_omwrpc.npy\", Lhat.transpose())\n",
    "np.save(\"hall_mat_sparse_omwrpc.npy\", Shat.transpose())"
   ]
  },
  {
   "cell_type": "code",
   "execution_count": null,
   "metadata": {
    "collapsed": true
   },
   "outputs": [],
   "source": [
    "plt.figure(figsize=[14,6])\n",
    "plt.plot((Shat != 0).sum(axis=0))\n",
    "plt.title('Support size of estimated sparse vector')"
   ]
  },
  {
   "cell_type": "code",
   "execution_count": null,
   "metadata": {
    "collapsed": true
   },
   "outputs": [],
   "source": [
    "for folder in ['./hall_OMWRPCA_L/', './hall_OMWRPCA_S/']:\n",
    "    try:\n",
    "        os.stat(folder)\n",
    "    except:\n",
    "        os.mkdir(folder)\n",
    "    filelist = [ f for f in os.listdir(folder)]\n",
    "    for f in filelist:\n",
    "        os.remove(folder + f)"
   ]
  },
  {
   "cell_type": "code",
   "execution_count": null,
   "metadata": {
    "collapsed": true
   },
   "outputs": [],
   "source": [
    "writeMatricPng(\"./hall_OMWRPCA_L/\", \"hall\", Lhat.transpose(), 176, 144)"
   ]
  },
  {
   "cell_type": "code",
   "execution_count": null,
   "metadata": {
    "collapsed": true
   },
   "outputs": [],
   "source": [
    "writeMatricPng(\"./hall_OMWRPCA_S/\", \"hall\", Shat.transpose(), 176, 144)"
   ]
  },
  {
   "cell_type": "markdown",
   "metadata": {
    "collapsed": true
   },
   "source": [
    "#### OMWRPCA-CP"
   ]
  },
  {
   "cell_type": "code",
   "execution_count": null,
   "metadata": {
    "collapsed": true
   },
   "outputs": [],
   "source": [
    "start = timer()\n",
    "Lhat, Shat, rank, cp, num_sparses = omwrpca_cp(np.transpose(hall_mat), burnin=100, win_size=100, track_cp_burnin=100, \n",
    "           n_check_cp=50, alpha=0.01, proportion=0.5, n_positive=3, min_test_size=300, tolerance_num=2000, \n",
    "           lambda1=1.0/np.sqrt(200), lambda2=1.0/np.sqrt(200)*(100), factor=1)\n",
    "end = timer()       \n",
    "print \"Running time of omwrpca-cp: %.3f seconds.\" % (end - start)\n",
    "np.save(\"hall_mat_low_omwrpca_cp.npy\", Lhat.transpose())\n",
    "np.save(\"hall_mat_sparse_omwrpca_cp.npy\", Shat.transpose())"
   ]
  },
  {
   "cell_type": "code",
   "execution_count": null,
   "metadata": {
    "collapsed": true
   },
   "outputs": [],
   "source": [
    "print cp"
   ]
  },
  {
   "cell_type": "code",
   "execution_count": null,
   "metadata": {
    "collapsed": true
   },
   "outputs": [],
   "source": [
    "print rank"
   ]
  },
  {
   "cell_type": "code",
   "execution_count": null,
   "metadata": {
    "collapsed": true
   },
   "outputs": [],
   "source": [
    "plt.figure(figsize=[14,6])\n",
    "plt.plot((Shat != 0).sum(axis=0))\n",
    "plt.title('Support size of estimated sparse vector')"
   ]
  },
  {
   "cell_type": "code",
   "execution_count": null,
   "metadata": {
    "collapsed": true
   },
   "outputs": [],
   "source": [
    "for folder in ['./hall_OMWRPCA_CP_L/', './hall_OMWRPCA_CP_S/']:\n",
    "    try:\n",
    "        os.stat(folder)\n",
    "    except:\n",
    "        os.mkdir(folder)\n",
    "    filelist = [ f for f in os.listdir(folder)]\n",
    "    for f in filelist:\n",
    "        os.remove(folder + f)"
   ]
  },
  {
   "cell_type": "code",
   "execution_count": null,
   "metadata": {
    "collapsed": true
   },
   "outputs": [],
   "source": [
    "writeMatricPng(\"./hall_OMWRPCA_CP_L/\", \"hall\", Lhat.transpose(), 176, 144)"
   ]
  },
  {
   "cell_type": "code",
   "execution_count": null,
   "metadata": {
    "collapsed": true
   },
   "outputs": [],
   "source": [
    "writeMatricPng(\"./hall_OMWRPCA_CP_S/\", \"hall\", Lhat.transpose(), 176, 144)"
   ]
  },
  {
   "cell_type": "markdown",
   "metadata": {},
   "source": [
    "### RPCA on hall video with jumping window"
   ]
  },
  {
   "cell_type": "code",
   "execution_count": null,
   "metadata": {
    "collapsed": true
   },
   "outputs": [],
   "source": [
    "hall_mat_jump = np.load(\"hall_mat_jump.npy\")"
   ]
  },
  {
   "cell_type": "code",
   "execution_count": null,
   "metadata": {
    "collapsed": false
   },
   "outputs": [],
   "source": [
    "print hall_mat_jump.shape"
   ]
  },
  {
   "cell_type": "markdown",
   "metadata": {},
   "source": [
    "#### stoc_rpca"
   ]
  },
  {
   "cell_type": "code",
   "execution_count": null,
   "metadata": {
    "collapsed": false
   },
   "outputs": [],
   "source": [
    "start = timer()\n",
    "Lhat, Shat, rank, Uhat = stoc_rpca(np.transpose(hall_mat_jump), 100, lambda1=1.0/np.sqrt(200), lambda2=1.0/np.sqrt(200)*(100))\n",
    "end = timer()       \n",
    "print \"Running time of stoc_rpca: %.3f seconds.\" % (end - start)\n",
    "np.save(\"hall_mat_jump_low_stoc_rpca.npy\", Lhat.transpose())\n",
    "np.save(\"hall_mat_jump_sparse_stoc_rpca.npy\", Shat.transpose())"
   ]
  },
  {
   "cell_type": "code",
   "execution_count": null,
   "metadata": {
    "collapsed": true
   },
   "outputs": [],
   "source": [
    "for folder in ['./hall_jump_STOC_RPCA_L/', './hall_jump_STOC_RPCA_S/']:\n",
    "    try:\n",
    "        os.stat(folder)\n",
    "    except:\n",
    "        os.mkdir(folder)\n",
    "    filelist = [ f for f in os.listdir(folder)]\n",
    "    for f in filelist:\n",
    "        os.remove(folder + f)"
   ]
  },
  {
   "cell_type": "code",
   "execution_count": null,
   "metadata": {
    "collapsed": true
   },
   "outputs": [],
   "source": [
    "writeMatricPng(\"./hall_jump_STOC_RPCA_L/\", \"hall\", Lhat.transpose(), 88, 144)"
   ]
  },
  {
   "cell_type": "code",
   "execution_count": null,
   "metadata": {
    "collapsed": true
   },
   "outputs": [],
   "source": [
    "writeMatricPng(\"./hall_jump_STOC_RPCA_S/\", \"hall\", Shat.transpose(), 88, 144)"
   ]
  },
  {
   "cell_type": "markdown",
   "metadata": {},
   "source": [
    "#### OMWRPCA"
   ]
  },
  {
   "cell_type": "code",
   "execution_count": null,
   "metadata": {
    "collapsed": false
   },
   "outputs": [],
   "source": [
    "start = timer()\n",
    "Lhat, Shat, rank = omwrpca(np.transpose(hall_mat_jump), burnin=100, win_size=100, lambda1=1.0/np.sqrt(200), lambda2=1.0/np.sqrt(200)*(100))\n",
    "end = timer()       \n",
    "print \"Running time of omwrpca: %.3f seconds.\" % (end - start)\n",
    "np.save(\"hall_mat_jump_low_omwrpc.npy\", Lhat.transpose())\n",
    "np.save(\"hall_mat_jump_sparse_omwrpc.npy\", Shat.transpose())"
   ]
  },
  {
   "cell_type": "code",
   "execution_count": null,
   "metadata": {
    "collapsed": false
   },
   "outputs": [],
   "source": [
    "plt.figure(figsize=[14,6])\n",
    "plt.plot((Shat != 0).sum(axis=0))\n",
    "plt.title('Support size of estimated sparse vector')"
   ]
  },
  {
   "cell_type": "code",
   "execution_count": null,
   "metadata": {
    "collapsed": true
   },
   "outputs": [],
   "source": [
    "for folder in ['./hall_jump_OMWRPCA_L/', './hall_jump_OMWRPCA_S/']:\n",
    "    try:\n",
    "        os.stat(folder)\n",
    "    except:\n",
    "        os.mkdir(folder)\n",
    "    filelist = [ f for f in os.listdir(folder)]\n",
    "    for f in filelist:\n",
    "        os.remove(folder + f)"
   ]
  },
  {
   "cell_type": "code",
   "execution_count": null,
   "metadata": {
    "collapsed": false
   },
   "outputs": [],
   "source": [
    "writeMatricPng(\"./hall_jump_OMWRPCA_L/\", \"hall\", Lhat.transpose(), 88, 144)"
   ]
  },
  {
   "cell_type": "code",
   "execution_count": null,
   "metadata": {
    "collapsed": true
   },
   "outputs": [],
   "source": [
    "writeMatricPng(\"./hall_jump_OMWRPCA_S/\", \"hall\", Shat.transpose(), 88, 144)"
   ]
  },
  {
   "cell_type": "markdown",
   "metadata": {},
   "source": [
    "#### OMWRPCA-CP"
   ]
  },
  {
   "cell_type": "code",
   "execution_count": null,
   "metadata": {
    "collapsed": false
   },
   "outputs": [],
   "source": [
    "start = timer()\n",
    "Lhat, Shat, rank, cp, num_sparses = omwrpca_cp(np.transpose(hall_mat_jump), burnin=100, win_size=100, track_cp_burnin=100, \n",
    "           n_check_cp=3, alpha=0.01, proportion=1, n_positive=3, min_test_size=300, tolerance_num=2000, \n",
    "           lambda1=1.0/np.sqrt(200), lambda2=1.0/np.sqrt(200)*(100), factor=1)\n",
    "end = timer()       \n",
    "print \"Running time of omwrpca-cp: %.3f seconds.\" % (end - start)\n",
    "np.save(\"hall_mat_low_omwrpca_cp.npy\", Lhat.transpose())\n",
    "np.save(\"hall_mat_sparse_omwrpca_cp.npy\", Shat.transpose())"
   ]
  },
  {
   "cell_type": "code",
   "execution_count": null,
   "metadata": {
    "collapsed": false,
    "scrolled": true
   },
   "outputs": [],
   "source": [
    "plt.figure(figsize=[14,6])\n",
    "plt.plot((Shat != 0).sum(axis=0))\n",
    "plt.title('Support size of estimated sparse vector')"
   ]
  },
  {
   "cell_type": "code",
   "execution_count": null,
   "metadata": {
    "collapsed": false
   },
   "outputs": [],
   "source": [
    "print cp"
   ]
  },
  {
   "cell_type": "code",
   "execution_count": null,
   "metadata": {
    "collapsed": false
   },
   "outputs": [],
   "source": [
    "print rank"
   ]
  },
  {
   "cell_type": "code",
   "execution_count": null,
   "metadata": {
    "collapsed": true
   },
   "outputs": [],
   "source": [
    "if folder in ['./hall_jump_OMWRPCA_CP_L/', './hall_jump_OMWRPCA_CP_S/']:\n",
    "    try:\n",
    "        os.stat(folder)\n",
    "    except:\n",
    "        os.mkdir(folder)\n",
    "    filelist = [ f for f in os.listdir(folder)]\n",
    "    for f in filelist:\n",
    "        os.remove(folder + f)"
   ]
  },
  {
   "cell_type": "code",
   "execution_count": null,
   "metadata": {
    "collapsed": true
   },
   "outputs": [],
   "source": [
    "writeMatricPng(\"./hall_jump_OMWRPCA_CP_L/\", \"hall\", Lhat.transpose(), 88, 144)"
   ]
  },
  {
   "cell_type": "code",
   "execution_count": null,
   "metadata": {
    "collapsed": true
   },
   "outputs": [],
   "source": [
    "writeMatricPng(\"./hall_jump_OMWRPCA_CP_S/\", \"hall\", Shat.transpose(), 88, 144)"
   ]
  },
  {
   "cell_type": "markdown",
   "metadata": {},
   "source": [
    "### RPCA on hall video with jumping and moving window"
   ]
  },
  {
   "cell_type": "code",
   "execution_count": null,
   "metadata": {
    "collapsed": false
   },
   "outputs": [],
   "source": [
    "hall_mat_jump_move = np.load(\"hall_mat_jump_move.npy\")"
   ]
  },
  {
   "cell_type": "code",
   "execution_count": null,
   "metadata": {
    "collapsed": false
   },
   "outputs": [],
   "source": [
    "print hall_mat_jump_move.shape"
   ]
  },
  {
   "cell_type": "markdown",
   "metadata": {},
   "source": [
    "#### stoc_rpca"
   ]
  },
  {
   "cell_type": "code",
   "execution_count": null,
   "metadata": {
    "collapsed": false
   },
   "outputs": [],
   "source": [
    "start = timer()\n",
    "Lhat, Shat, rank, Uhat = stoc_rpca(np.transpose(hall_mat_jump_move), 100, lambda1=1.0/np.sqrt(200), lambda2=1.0/np.sqrt(200)*(100))\n",
    "end = timer()       \n",
    "print \"Running time of stoc_rpca: %.3f seconds.\" % (end - start)\n",
    "np.save(\"hall_mat_low_stoc_rpca.npy\", Lhat.transpose())\n",
    "np.save(\"hall_mat_sparse_stoc_rpca.npy\", Shat.transpose())"
   ]
  },
  {
   "cell_type": "code",
   "execution_count": null,
   "metadata": {
    "collapsed": false
   },
   "outputs": [],
   "source": [
    "for folder in ['./hall_jump_move_STOC_RPCA_L/', './hall_jump_move_STOC_RPCA_S/']:\n",
    "    try:\n",
    "        os.stat(folder)\n",
    "    except:\n",
    "        os.mkdir(folder)\n",
    "    filelist = [ f for f in os.listdir(folder)]\n",
    "    for f in filelist:\n",
    "        os.remove(folder + f)"
   ]
  },
  {
   "cell_type": "code",
   "execution_count": null,
   "metadata": {
    "collapsed": true
   },
   "outputs": [],
   "source": [
    "writeMatricPng(\"./hall_jump_move_STOC_RPCA_L/\", \"hall\", Lhat.transpose(), 88, 144)"
   ]
  },
  {
   "cell_type": "code",
   "execution_count": null,
   "metadata": {
    "collapsed": true
   },
   "outputs": [],
   "source": [
    "writeMatricPng(\"./hall_jump_move_STOC_RPCA_S/\", \"hall\", Shat.transpose(), 88, 144)"
   ]
  },
  {
   "cell_type": "markdown",
   "metadata": {},
   "source": [
    "#### OMWRPCA"
   ]
  },
  {
   "cell_type": "code",
   "execution_count": null,
   "metadata": {
    "collapsed": false
   },
   "outputs": [],
   "source": [
    "start = timer()\n",
    "Lhat, Shat, rank = omwrpca(np.transpose(hall_mat_jump_move), burnin=100, win_size=20, lambda1=1.0/np.sqrt(200), lambda2=1.0/np.sqrt(200)*(100))\n",
    "end = timer()       \n",
    "print \"Running time of omwrpca: %.3f seconds.\" % (end - start)\n",
    "np.save(\"hall_mat_jump_move_low_omwrpc.npy\", Lhat.transpose())\n",
    "np.save(\"hall_mat_jump_move_sparse_omwrpc.npy\", Shat.transpose())"
   ]
  },
  {
   "cell_type": "code",
   "execution_count": null,
   "metadata": {
    "collapsed": false,
    "scrolled": false
   },
   "outputs": [],
   "source": [
    "plt.figure(figsize=[14,6])\n",
    "plt.plot((Shat != 0).sum(axis=0))\n",
    "plt.title('Support size of estimated sparse vector')"
   ]
  },
  {
   "cell_type": "code",
   "execution_count": null,
   "metadata": {
    "collapsed": true
   },
   "outputs": [],
   "source": [
    "for folder in ['./hall_jump_move_OMWRPCA_L/', './hall_jump_move_OMWRPCA_S/']:\n",
    "    try:\n",
    "        os.stat(folder)\n",
    "    except:\n",
    "        os.mkdir(folder)\n",
    "    filelist = [ f for f in os.listdir(folder)]\n",
    "    for f in filelist:\n",
    "        os.remove(folder + f)"
   ]
  },
  {
   "cell_type": "code",
   "execution_count": null,
   "metadata": {
    "collapsed": true
   },
   "outputs": [],
   "source": [
    "writeMatricPng(\"./hall_jump_move_OMWRPCA_L/\", \"hall\", Lhat.transpose(), 88, 144)"
   ]
  },
  {
   "cell_type": "code",
   "execution_count": null,
   "metadata": {
    "collapsed": false
   },
   "outputs": [],
   "source": [
    "writeMatricPng(\"./hall_jump_move_OMWRPCA_S/\", \"hall\", Shat.transpose(), 88, 144)"
   ]
  },
  {
   "cell_type": "markdown",
   "metadata": {},
   "source": [
    "#### OMWRPCA-CP"
   ]
  },
  {
   "cell_type": "code",
   "execution_count": null,
   "metadata": {
    "collapsed": false
   },
   "outputs": [],
   "source": [
    "start = timer()\n",
    "Lhat, Shat, rank, cp, num_sparses = omwrpca_cp(np.transpose(hall_mat_jump_move), burnin=100, win_size=20, track_cp_burnin=100, \n",
    "           n_check_cp=3, alpha=0.01, proportion=1, n_positive=3, min_test_size=300, tolerance_num=1000, \n",
    "           lambda1=1.0/np.sqrt(200), lambda2=1.0/np.sqrt(200)*(100), factor=1)\n",
    "end = timer()       \n",
    "print \"Running time of omwrpca-cp: %.3f seconds.\" % (end - start)\n",
    "np.save(\"hall_Jmat_low_omwrpca_cp.npy\", Lhat.transpose())\n",
    "np.save(\"hall_mat_sparse_omwrpca_cp.npy\", Shat.transpose())"
   ]
  },
  {
   "cell_type": "code",
   "execution_count": null,
   "metadata": {
    "collapsed": false,
    "scrolled": true
   },
   "outputs": [],
   "source": [
    "plt.figure(figsize=[14,6])\n",
    "plt.plot((Shat != 0).sum(axis=0))\n",
    "plt.title('Support size of estimated sparse vector')"
   ]
  },
  {
   "cell_type": "code",
   "execution_count": null,
   "metadata": {
    "collapsed": false
   },
   "outputs": [],
   "source": [
    "print cp"
   ]
  },
  {
   "cell_type": "code",
   "execution_count": null,
   "metadata": {
    "collapsed": false
   },
   "outputs": [],
   "source": [
    "print rank"
   ]
  },
  {
   "cell_type": "code",
   "execution_count": null,
   "metadata": {
    "collapsed": false
   },
   "outputs": [],
   "source": [
    "(Shat != 0).sum(axis=0)[2110:2130]"
   ]
  },
  {
   "cell_type": "code",
   "execution_count": null,
   "metadata": {
    "collapsed": false
   },
   "outputs": [],
   "source": [
    "(Shat != 0).sum(axis=0)[2630:2650]"
   ]
  },
  {
   "cell_type": "code",
   "execution_count": null,
   "metadata": {
    "collapsed": true
   },
   "outputs": [],
   "source": [
    "for folder in ['./hall_jump_move_OMWRPCA_CP_L/', './hall_jump_move_OMWRPCA_CP_S/']:\n",
    "    try:\n",
    "        os.stat(folder)\n",
    "    except:\n",
    "        os.mkdir(folder)\n",
    "    filelist = [ f for f in os.listdir(folder)]\n",
    "    for f in filelist:\n",
    "        os.remove(folder + f)"
   ]
  },
  {
   "cell_type": "code",
   "execution_count": null,
   "metadata": {
    "collapsed": true
   },
   "outputs": [],
   "source": [
    "writeMatricPng(\"./hall_jump_move_OMWRPCA_CP_L/\", \"hall\", Lhat.transpose(), 88, 144)"
   ]
  },
  {
   "cell_type": "code",
   "execution_count": null,
   "metadata": {
    "collapsed": false
   },
   "outputs": [],
   "source": [
    "writeMatricPng(\"./hall_jump_move_OMWRPCA_CP_S/\", \"hall\", Shat.transpose(), 88, 144)"
   ]
  }
 ],
 "metadata": {
  "kernelspec": {
   "display_name": "Python 2",
   "language": "python",
   "name": "python2"
  },
  "language_info": {
   "codemirror_mode": {
    "name": "ipython",
    "version": 2
   },
   "file_extension": ".py",
   "mimetype": "text/x-python",
   "name": "python",
   "nbconvert_exporter": "python",
   "pygments_lexer": "ipython2",
   "version": "2.7.11"
  }
 },
 "nbformat": 4,
 "nbformat_minor": 0
}
